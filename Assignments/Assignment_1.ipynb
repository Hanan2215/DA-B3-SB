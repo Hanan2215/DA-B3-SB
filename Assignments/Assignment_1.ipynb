{
 "cells": [
  {
   "cell_type": "code",
   "execution_count": 1,
   "id": "4c432f81-6e52-427d-ab53-0c7f656936a3",
   "metadata": {},
   "outputs": [
    {
     "name": "stdout",
     "output_type": "stream",
     "text": [
      "Sum: 19\n",
      "Subtraction: 11\n",
      "Produt: 60\n",
      "Division: 3.75\n",
      "Floor Division: 3\n",
      "Modulos: 3 \n"
     ]
    }
   ],
   "source": [
    "a,b=15,4\n",
    "sum = a+b\n",
    "sub = a-b\n",
    "product = a*b\n",
    "division = a/b\n",
    "floor_division = a//b\n",
    "modulos = a%b\n",
    "\n",
    "print(f\"Sum: {sum}\\nSubtraction: {sub}\\nProdut: {product}\\nDivision: {division}\\nFloor Division: {floor_division}\\nModulos: {modulos} \")"
   ]
  },
  {
   "cell_type": "code",
   "execution_count": 2,
   "id": "eec07ec8-8f9e-4bc9-901b-c2cb6107cd42",
   "metadata": {},
   "outputs": [
    {
     "name": "stdout",
     "output_type": "stream",
     "text": [
      "10.0 <class 'float'>\n",
      "5 <class 'int'>\n",
      "4.43 <class 'str'>\n"
     ]
    }
   ],
   "source": [
    "num_1 = 10\n",
    "num_2= 5.6\n",
    "num_3 =4.43\n",
    "\n",
    "print(float(num_1), type(float(num_1)))\n",
    "print(int(num_2), type(int(num_2)))\n",
    "print(str(num_3), type(str(num_3)))"
   ]
  },
  {
   "cell_type": "code",
   "execution_count": 3,
   "id": "0c3f95e6-9b1c-4f53-8438-a30b8ed582f9",
   "metadata": {},
   "outputs": [
    {
     "name": "stdout",
     "output_type": "stream",
     "text": [
      "apple \n",
      " orange \n",
      " coconut\n"
     ]
    }
   ],
   "source": [
    "fruits = [\"apple\", \"banana\", \"cherry\", \"coconut\", \"pineapple\", \"mango\", \"orange\"]\n",
    "print(fruits[0],\"\\n\",fruits[-1],\"\\n\",fruits[3])"
   ]
  },
  {
   "cell_type": "code",
   "execution_count": 4,
   "id": "293a8692-7638-402f-b4ed-a7f173bc100b",
   "metadata": {},
   "outputs": [
    {
     "name": "stdout",
     "output_type": "stream",
     "text": [
      "[10, 20, 30]\n",
      "[40, 50]\n",
      "[20, 30, 40, 50]\n",
      "[10, 20, 30, 40]\n",
      "[10, 30, 50]\n",
      "[50, 40, 30, 20, 10]\n"
     ]
    }
   ],
   "source": [
    "numbers = [10, 20, 30, 40, 50]\n",
    "print(numbers[:3])\n",
    "print(numbers[-2:])\n",
    "print(numbers[1:])\n",
    "print(numbers[:-1])\n",
    "print(numbers[::2])\n",
    "print(numbers[::-1])"
   ]
  },
  {
   "cell_type": "code",
   "execution_count": 5,
   "id": "a532ccd8-5c56-49a4-aaa5-117afa127303",
   "metadata": {},
   "outputs": [
    {
     "name": "stdout",
     "output_type": "stream",
     "text": [
      "[1, 2, 3, 10]\n"
     ]
    }
   ],
   "source": [
    "nums = [1, 2, 3]\n",
    "nums.append(10)\n",
    "print(nums)"
   ]
  },
  {
   "cell_type": "code",
   "execution_count": 6,
   "id": "ff964c17-2fc3-45f1-a594-62e5d44b2fe7",
   "metadata": {},
   "outputs": [
    {
     "name": "stdout",
     "output_type": "stream",
     "text": [
      "[99, 1, 2, 3, 10]\n"
     ]
    }
   ],
   "source": [
    "nums.insert(0,99)\n",
    "print(nums)"
   ]
  },
  {
   "cell_type": "code",
   "execution_count": 8,
   "id": "09e403bc-1ab8-400b-ae63-c1327365a851",
   "metadata": {},
   "outputs": [
    {
     "name": "stdout",
     "output_type": "stream",
     "text": [
      "[1, 2, 3, 10, 99]\n"
     ]
    }
   ],
   "source": [
    "nums.sort()\n",
    "print(nums)"
   ]
  },
  {
   "cell_type": "code",
   "execution_count": 19,
   "id": "acf27f00-70bc-4b0c-8e61-4f64e308749f",
   "metadata": {},
   "outputs": [
    {
     "data": {
      "text/plain": [
       "['burger', 'fries', 'coke']"
      ]
     },
     "execution_count": 19,
     "metadata": {},
     "output_type": "execute_result"
    }
   ],
   "source": [
    "order = [\"burger\", \"fries\", \"coke\"]\n",
    "order"
   ]
  },
  {
   "cell_type": "code",
   "execution_count": 20,
   "id": "f555d647-b696-42d3-b0f1-7284b2f9cc6e",
   "metadata": {},
   "outputs": [
    {
     "data": {
      "text/plain": [
       "['burger', 'fries', 'coke', 'ice-cream']"
      ]
     },
     "execution_count": 20,
     "metadata": {},
     "output_type": "execute_result"
    }
   ],
   "source": [
    "order.append('ice-cream')\n",
    "order"
   ]
  },
  {
   "cell_type": "code",
   "execution_count": 21,
   "id": "036a9809-ddea-430c-835d-30552548530f",
   "metadata": {},
   "outputs": [
    {
     "ename": "ValueError",
     "evalue": "list.remove(x): x not in list",
     "output_type": "error",
     "traceback": [
      "\u001b[1;31m---------------------------------------------------------------------------\u001b[0m",
      "\u001b[1;31mValueError\u001b[0m                                Traceback (most recent call last)",
      "Cell \u001b[1;32mIn[21], line 1\u001b[0m\n\u001b[1;32m----> 1\u001b[0m \u001b[43morder\u001b[49m\u001b[38;5;241;43m.\u001b[39;49m\u001b[43mremove\u001b[49m\u001b[43m(\u001b[49m\u001b[38;5;124;43m\"\u001b[39;49m\u001b[38;5;124;43mBaryani\u001b[39;49m\u001b[38;5;124;43m\"\u001b[39;49m\u001b[43m)\u001b[49m \u001b[38;5;66;03m# The Given Value is not available in list so it through an error\u001b[39;00m\n",
      "\u001b[1;31mValueError\u001b[0m: list.remove(x): x not in list"
     ]
    }
   ],
   "source": [
    "order.remove(\"Baryani\") # The Given Value is not available in list so it through an error"
   ]
  },
  {
   "cell_type": "code",
   "execution_count": 23,
   "id": "266553bb-ca66-40e3-b1c6-14eaec486481",
   "metadata": {},
   "outputs": [
    {
     "data": {
      "text/plain": [
       "['burger', 'fries', 'coke', 'ice-cream']"
      ]
     },
     "execution_count": 23,
     "metadata": {},
     "output_type": "execute_result"
    }
   ],
   "source": [
    "order"
   ]
  },
  {
   "cell_type": "code",
   "execution_count": 31,
   "id": "06939e3d-0c74-4067-bb18-dd2f8469b71e",
   "metadata": {},
   "outputs": [],
   "source": [
    "passengers = [\"Ali\", \"Zara\", \"Ahmed\"]"
   ]
  },
  {
   "cell_type": "code",
   "execution_count": 32,
   "id": "1ad376b5-30ea-4457-9def-8dd1c70f66bb",
   "metadata": {},
   "outputs": [
    {
     "data": {
      "text/plain": [
       "['Ali', 'Sara', 'Zara', 'Ahmed']"
      ]
     },
     "execution_count": 32,
     "metadata": {},
     "output_type": "execute_result"
    }
   ],
   "source": [
    "passengers.insert(1,\"Sara\")\n",
    "passengers"
   ]
  },
  {
   "cell_type": "code",
   "execution_count": 33,
   "id": "0d21590e-527d-4889-b34b-d812c84cc13f",
   "metadata": {},
   "outputs": [],
   "source": [
    "passengers.remove(\"Zara\")"
   ]
  },
  {
   "cell_type": "code",
   "execution_count": 35,
   "id": "25fad03a-5f30-47ef-8ad3-2c4249f4634e",
   "metadata": {},
   "outputs": [
    {
     "data": {
      "text/plain": [
       "['Ali', 'Sara', 'Ahmed']"
      ]
     },
     "execution_count": 35,
     "metadata": {},
     "output_type": "execute_result"
    }
   ],
   "source": [
    "passengers"
   ]
  },
  {
   "cell_type": "code",
   "execution_count": 39,
   "id": "f16800c2-4c66-4cbf-a2df-e34e9766d36a",
   "metadata": {},
   "outputs": [],
   "source": [
    "passengers.reverse()"
   ]
  },
  {
   "cell_type": "code",
   "execution_count": 40,
   "id": "e88b2965-ed38-47cc-9b1e-3431aef1a659",
   "metadata": {},
   "outputs": [
    {
     "data": {
      "text/plain": [
       "['Ahmed', 'Sara', 'Ali']"
      ]
     },
     "execution_count": 40,
     "metadata": {},
     "output_type": "execute_result"
    }
   ],
   "source": [
    "passengers"
   ]
  },
  {
   "cell_type": "code",
   "execution_count": null,
   "id": "a8111966-5622-43b7-92d9-828d6a702477",
   "metadata": {},
   "outputs": [],
   "source": []
  }
 ],
 "metadata": {
  "kernelspec": {
   "display_name": "Python 3 (ipykernel)",
   "language": "python",
   "name": "python3"
  },
  "language_info": {
   "codemirror_mode": {
    "name": "ipython",
    "version": 3
   },
   "file_extension": ".py",
   "mimetype": "text/x-python",
   "name": "python",
   "nbconvert_exporter": "python",
   "pygments_lexer": "ipython3",
   "version": "3.11.4"
  }
 },
 "nbformat": 4,
 "nbformat_minor": 5
}
