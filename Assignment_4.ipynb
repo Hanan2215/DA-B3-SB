{
 "cells": [
  {
   "cell_type": "markdown",
   "id": "ded69d83-04af-41d6-8e49-609befccff3f",
   "metadata": {},
   "source": [
    "### Q1.\n",
    "\n",
    "An e-commerce store stores information about its products in a nested dictionary. The outer dictionary uses product IDs as keys, and the inner dictionary stores product details like name, category, price, and stock quantity. products = { 101: {\"name\": \"Laptop\", \"category\": \"Electronics\", \"price\": 1200, \"stock\": 50}, 102: {\"name\": \"Shirt\", \"category\": \"Apparel\", \"price\": 25, \"stock\": 200}, 103: {\"name\": \"Coffee Maker\", \"category\": \"Home Appliances\", \"price\": 80, \"stock\": 30} }\n",
    "\n",
    "• Increase the stock of the \"Shirt\" product (add 50 more units)\n",
    "\n",
    "• Add a new product (e.g., \"Smartphone\")"
   ]
  },
  {
   "cell_type": "code",
   "execution_count": 6,
   "id": "22fef02f-2cc3-4af3-b4b5-1640fd2f7b7a",
   "metadata": {},
   "outputs": [
    {
     "data": {
      "text/plain": [
       "{101: {'name': 'Laptop',\n",
       "  'category': 'Electronics',\n",
       "  'price': 1200,\n",
       "  'stock': 50},\n",
       " 102: {'name': 'Shirt', 'category': 'Apparel', 'price': 25, 'stock': 250},\n",
       " 103: {'name': 'Coffee Maker',\n",
       "  'category': 'Home Appliances',\n",
       "  'price': 80,\n",
       "  'stock': 30},\n",
       " 104: {'name': 'Smartphone',\n",
       "  'category': 'Electronics',\n",
       "  'price': 999,\n",
       "  'stock': 100}}"
      ]
     },
     "execution_count": 6,
     "metadata": {},
     "output_type": "execute_result"
    }
   ],
   "source": [
    " products = { 101: {\"name\": \"Laptop\", \"category\": \"Electronics\", \"price\": 1200, \"stock\": 50}, 102: {\"name\": \"Shirt\", \"category\": \"Apparel\", \"price\": 25, \"stock\": 200}, 103: {\"name\": \"Coffee Maker\", \"category\": \"Home Appliances\", \"price\": 80, \"stock\": 30} }\n",
    "\n",
    "products[102][\"stock\"] += 50\n",
    "\n",
    "\n",
    "products[104] = {\"name\": \"Smartphone\", \"category\": \"Electronics\", \"price\": 999, \"stock\": 100}\n",
    "\n",
    "products"
   ]
  },
  {
   "cell_type": "markdown",
   "id": "e10a9a28-2eb0-415e-a90c-41e3e1b2853e",
   "metadata": {},
   "source": [
    "Q2.\n",
    "\n",
    "You are given a list that contains some duplicate items. Remove the duplicates\n",
    "\n",
    "shopping_list = [\"apple\", \"banana\", \"apple\", \"orange\", \"banana\", \"grape\"]"
   ]
  },
  {
   "cell_type": "code",
   "execution_count": 19,
   "id": "6f6b9f0d-ddd9-493d-b42b-68c110b8bce7",
   "metadata": {},
   "outputs": [
    {
     "data": {
      "text/plain": [
       "['orange', 'apple', 'grape', 'banana']"
      ]
     },
     "execution_count": 19,
     "metadata": {},
     "output_type": "execute_result"
    }
   ],
   "source": [
    "shopping_list = [\"apple\", \"banana\", \"apple\", \"orange\", \"banana\", \"grape\"]\n",
    "\n",
    "unique_items = list(set(shopping_list))\n",
    "\n",
    "unique_items\n"
   ]
  },
  {
   "cell_type": "markdown",
   "id": "0a62bc87-09d4-44c1-8311-2d3c6867511b",
   "metadata": {},
   "source": [
    "Q3.\n",
    "\n",
    "You are managing a list of students enrolled in two different courses. You need to perform various set operations to understand the student enrollment. Task: Create two sets: one for students in \"Course A\" and one for students in \"Course B\". Find the students who are in \"Course A\" but not in \"Course B\" (difference). Find students who are only in one of the two courses (symmetric difference). \n",
    "\n",
    "course_a = {\"John\", \"Alice\", \"Bob\", \"David\"} \n",
    "\n",
    "course_b = {\"Alice\", \"Eve\", \"Charlie\", \"David\"}\n",
    "\n",
    "• Find students who are in Course A but not in Course B (difference)\n",
    "\n",
    "• Find students who are only in one of the two courses (symmetric difference)"
   ]
  },
  {
   "cell_type": "code",
   "execution_count": 31,
   "id": "27f31928-2d67-4cfe-8348-737b6d5f4797",
   "metadata": {},
   "outputs": [
    {
     "name": "stdout",
     "output_type": "stream",
     "text": [
      "{'Charlie', 'Bob', 'Eve', 'John'}\n",
      "{'Bob', 'John'}\n"
     ]
    }
   ],
   "source": [
    "course_a = {\"John\", \"Alice\", \"Bob\", \"David\"} \n",
    "\n",
    "course_b = {\"Alice\", \"Eve\", \"Charlie\", \"David\"}\n",
    "\n",
    "print(course_a.symmetric_difference( course_b))\n",
    "\n",
    "print(course_a - course_b)\n"
   ]
  },
  {
   "cell_type": "markdown",
   "id": "822000b2-e437-4d5d-9fff-2bded3b347cb",
   "metadata": {},
   "source": [
    "Q4.\n",
    "\n",
    "Write a Python program that calculates the sum of all even numbers between 1 and 50 (inclusive) using a for loop.\n",
    "\n",
    "Hint\n",
    "\n",
    "- Initialize a variable to hold the sum (e.g., sum_of_evens).\n",
    "- Use a for loop to iterate through all numbers from 1 to 50.\n",
    "- Inside the loop, check if the number is even.\n",
    "- If the number is even, add it to sum_of_evens.\n",
    "- After the loop finishes, print the total sum of all even numbers between 1 and 50."
   ]
  },
  {
   "cell_type": "code",
   "execution_count": 34,
   "id": "a3978571-e89e-4ea6-953f-a7ea030220d9",
   "metadata": {},
   "outputs": [
    {
     "data": {
      "text/plain": [
       "650"
      ]
     },
     "execution_count": 34,
     "metadata": {},
     "output_type": "execute_result"
    }
   ],
   "source": [
    "sum =0\n",
    "for i in range (51):\n",
    "    if i%2==0:\n",
    "        sum = sum + i\n",
    "sum"
   ]
  },
  {
   "cell_type": "markdown",
   "id": "b6529e21-c453-48f0-acee-54044715bc1d",
   "metadata": {},
   "source": [
    "Q5. Power of a Number Write a Python program that takes a number and prints the powers of the number (starting from 1 to 10) using a while loop. For example, if the user inputs 3, the output should be:\n",
    "\n",
    "3^1 = 3\n",
    "\n",
    "3^2 = 9\n",
    "\n",
    "3^3 = 27\n",
    "\n",
    "... up to 3^10."
   ]
  },
  {
   "cell_type": "code",
   "execution_count": 40,
   "id": "a37c5469-53a0-4cd9-aa7b-9b06e3044a9c",
   "metadata": {},
   "outputs": [
    {
     "name": "stdin",
     "output_type": "stream",
     "text": [
      "Enter a number 5\n"
     ]
    },
    {
     "name": "stdout",
     "output_type": "stream",
     "text": [
      "5^1 = 5\n",
      "5^2 = 25\n",
      "5^3 = 125\n",
      "5^4 = 625\n",
      "5^5 = 3125\n",
      "5^6 = 15625\n",
      "5^7 = 78125\n",
      "5^8 = 390625\n",
      "5^9 = 1953125\n",
      "5^10 = 9765625\n"
     ]
    }
   ],
   "source": [
    "pow =1\n",
    "a =int(input(\"Enter a number\"))\n",
    "while (pow<11):\n",
    "    print(f\"{a}^{pow} = {a**pow}\")\n",
    "    pow+=1\n",
    "    "
   ]
  },
  {
   "cell_type": "markdown",
   "id": "17616e00-7421-4145-8177-c27d67f85b18",
   "metadata": {},
   "source": [
    "Q6. \n",
    "\n",
    "Problem Statement: Write a Python program that takes an integer input from the user and counts down from that number to 0. The program should display the current number at each step until it reaches 0, at which point it should print a message indicating the countdown is finished\n",
    "\n",
    "Output Hint:\n",
    "\n",
    "Enter a number to start the countdown: 3\n",
    "\n",
    "3\n",
    "\n",
    "2\n",
    "\n",
    "1\n",
    "\n",
    "0\n",
    "\n",
    "Countdown finished!"
   ]
  },
  {
   "cell_type": "code",
   "execution_count": 46,
   "id": "a4ad618d-d696-4d8f-8ea7-e8683ca7848a",
   "metadata": {},
   "outputs": [
    {
     "name": "stdin",
     "output_type": "stream",
     "text": [
      "Enter a number 5\n"
     ]
    },
    {
     "name": "stdout",
     "output_type": "stream",
     "text": [
      "5\n",
      "4\n",
      "3\n",
      "2\n",
      "1\n",
      "0\n"
     ]
    }
   ],
   "source": [
    "num=int(input(\"Enter a number\"))\n",
    "while num>=0:\n",
    "    print(num)\n",
    "    num=num - 1\n",
    "    "
   ]
  },
  {
   "cell_type": "code",
   "execution_count": null,
   "id": "0f8aa4f9-0eb4-4399-ab59-b6cc7c030c17",
   "metadata": {},
   "outputs": [],
   "source": []
  },
  {
   "cell_type": "markdown",
   "id": "cfe42689-a235-4920-a4d2-2b0cbb8e51c6",
   "metadata": {},
   "source": [
    "Q7.\n",
    "\n",
    "Write a Python program that takes a number as input from the user and calculates its factorial using a for loop. The program should display the result to the user.\n",
    "\n",
    "Example Input/Output:\n",
    "\n",
    "Input:\n",
    "5\n",
    "\n",
    "Output:\n",
    "The factorial of 5 is 120"
   ]
  },
  {
   "cell_type": "code",
   "execution_count": 49,
   "id": "fc2b3a57-dc33-4d4b-9797-7da51df0580f",
   "metadata": {},
   "outputs": [
    {
     "name": "stdin",
     "output_type": "stream",
     "text": [
      "Enter Number 5\n"
     ]
    },
    {
     "name": "stdout",
     "output_type": "stream",
     "text": [
      "120\n"
     ]
    }
   ],
   "source": [
    "num = int(input(\"Enter Number\"))\n",
    "fact = 1\n",
    "while (num>=1):\n",
    "    fact = fact * num\n",
    "    num=num -1 \n",
    "print(fact)"
   ]
  },
  {
   "cell_type": "markdown",
   "id": "ee8b3ea5-fe2f-40eb-bcb0-a7ebca6811e0",
   "metadata": {},
   "source": [
    "Q8.\n",
    "\n",
    "Create an empty dictionary called person_info.\n",
    "\n",
    "Assign the following key-value pairs to the dictionary:\n",
    "\n",
    "\"name\": \"Alice\"\n",
    "\n",
    "\"age\": 25\n",
    "\n",
    "\"occupation\": \"Engineer\"\n",
    "\n",
    "After assigning the values, print the dictionary."
   ]
  },
  {
   "cell_type": "code",
   "execution_count": 50,
   "id": "dd5b4977-13a7-400b-a9cb-36f9ebf22222",
   "metadata": {},
   "outputs": [
    {
     "name": "stdout",
     "output_type": "stream",
     "text": [
      "{'name': 'Abdul Hanan', 'age': 20, 'occupation': 'Student'}\n"
     ]
    }
   ],
   "source": [
    "\n",
    "person_info = {}\n",
    "\n",
    "person_info[\"name\"] = \"Abdul Hanan\"\n",
    "person_info[\"age\"] = 20\n",
    "person_info[\"occupation\"] = \"Student\"\n",
    "\n",
    "print(person_info)\n"
   ]
  },
  {
   "cell_type": "markdown",
   "id": "252146ac-80e2-4961-bd0b-39c9821f9e04",
   "metadata": {},
   "source": [
    "Q9. Printing a right-angled triangle pattern (with NESTED while loop)"
   ]
  },
  {
   "cell_type": "code",
   "execution_count": null,
   "id": "5719c1be-5aa4-4f6a-96a0-a66e2e3983f1",
   "metadata": {},
   "outputs": [],
   "source": [
    "* \n",
    "* * \n",
    "* * * \n",
    "* * * * \n",
    "* * * * * "
   ]
  },
  {
   "cell_type": "code",
   "execution_count": 1,
   "id": "65063269-da3a-454c-8455-797d355dddc2",
   "metadata": {},
   "outputs": [
    {
     "name": "stdout",
     "output_type": "stream",
     "text": [
      "*\n",
      "*\n",
      "*\n",
      "*\n"
     ]
    }
   ],
   "source": [
    "for i in range(1, 6):           \n",
    "    for j in range(i):          \n",
    "        print(\"*\", end=\" \")     \n",
    "    print()                     \n"
   ]
  },
  {
   "cell_type": "markdown",
   "id": "c8e1c594-6022-4dc6-8a7b-e2c3f36c798a",
   "metadata": {},
   "source": [
    "Q10.\n",
    "\n",
    "Write a Python program that does the following:\n",
    "\n",
    "Range: Loop through numbers from 1 to 20 (inclusive).\n",
    "\n",
    "Continue: If the number is divisible by 4, skip that iteration and move to the next number.\n",
    "\n",
    "Break: If the number is divisible by 7, stop the loop entirely.\n",
    "\n",
    "For all other numbers, print the number."
   ]
  },
  {
   "cell_type": "code",
   "execution_count": 3,
   "id": "b15f207b-76d0-4aec-9b56-ad2b0fe14af8",
   "metadata": {},
   "outputs": [
    {
     "name": "stdout",
     "output_type": "stream",
     "text": [
      "1\n",
      "2\n",
      "3\n",
      "5\n",
      "6\n"
     ]
    }
   ],
   "source": [
    "for i in range(1,21):\n",
    "    if i%4==0:\n",
    "        continue\n",
    "    elif i%7==0:\n",
    "        break\n",
    "    else :\n",
    "        print(i)"
   ]
  }
 ],
 "metadata": {
  "kernelspec": {
   "display_name": "Python 3 (ipykernel)",
   "language": "python",
   "name": "python3"
  },
  "language_info": {
   "codemirror_mode": {
    "name": "ipython",
    "version": 3
   },
   "file_extension": ".py",
   "mimetype": "text/x-python",
   "name": "python",
   "nbconvert_exporter": "python",
   "pygments_lexer": "ipython3",
   "version": "3.11.4"
  }
 },
 "nbformat": 4,
 "nbformat_minor": 5
}
