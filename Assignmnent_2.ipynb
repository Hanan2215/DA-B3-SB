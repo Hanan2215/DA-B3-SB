{
 "cells": [
  {
   "cell_type": "code",
   "execution_count": 8,
   "id": "4445fa4f-536a-4de8-a04d-39d89c5dc88f",
   "metadata": {},
   "outputs": [
    {
     "name": "stdout",
     "output_type": "stream",
     "text": [
      "Hello_python_world\n",
      "['Hello', 'python', 'world']\n"
     ]
    },
    {
     "data": {
      "text/plain": [
       "'Hello-python-world'"
      ]
     },
     "execution_count": 8,
     "metadata": {},
     "output_type": "execute_result"
    }
   ],
   "source": [
    "S=\"Hello python world\"\n",
    "print(S.replace(\" \", \"_\"))\n",
    "print(S.split())\n",
    "sa =S.split()\n",
    "\"-\".join(sa)"
   ]
  },
  {
   "cell_type": "markdown",
   "id": "43b16f9d-fe31-4abf-8377-82c6cc146e07",
   "metadata": {},
   "source": [
    "2- Check if a string has more than 5 characters. Return True/False\n",
    "\n",
    "word = \"Javascript\"\n"
   ]
  },
  {
   "cell_type": "code",
   "execution_count": 11,
   "id": "e41689ea-b3f1-45e0-bad7-1a08f4b1431d",
   "metadata": {},
   "outputs": [
    {
     "data": {
      "text/plain": [
       "True"
      ]
     },
     "execution_count": 11,
     "metadata": {},
     "output_type": "execute_result"
    }
   ],
   "source": [
    "word = \"javascript\"\n",
    "len(word)>5"
   ]
  },
  {
   "cell_type": "markdown",
   "id": "b1f1b114-fa24-40b3-851b-208bef6992f3",
   "metadata": {},
   "source": [
    "3- Check if a number is even and greater than 10. Return True/False\n",
    "\n",
    "num2 = 12"
   ]
  },
  {
   "cell_type": "code",
   "execution_count": 20,
   "id": "4a238a22-7d5e-46e5-bed7-78c4f2779b40",
   "metadata": {},
   "outputs": [
    {
     "data": {
      "text/plain": [
       "True"
      ]
     },
     "execution_count": 20,
     "metadata": {},
     "output_type": "execute_result"
    }
   ],
   "source": [
    "num2 =12\n",
    "num2>10 and num2%2==0\n",
    "    "
   ]
  },
  {
   "cell_type": "markdown",
   "id": "a8861555-edde-43cb-94c7-ace2988433fa",
   "metadata": {},
   "source": [
    "4- Check if a number is less than 5 or greater than 20. Return True/False\n",
    "\n",
    "num3 = 3"
   ]
  },
  {
   "cell_type": "code",
   "execution_count": 21,
   "id": "323b5f2f-9d7e-44a6-9c09-c68da9a12b0c",
   "metadata": {},
   "outputs": [
    {
     "data": {
      "text/plain": [
       "False"
      ]
     },
     "execution_count": 21,
     "metadata": {},
     "output_type": "execute_result"
    }
   ],
   "source": [
    "num3 =3\n",
    "num3>20 and num3<5"
   ]
  },
  {
   "cell_type": "markdown",
   "id": "1bb3ccd8-c052-47ed-ab1c-d76496b2174c",
   "metadata": {},
   "source": [
    "5- Check if a person’s age is between 18 and 65 and if they have a valid ID\n",
    "\n",
    "age = 25\n",
    "\n",
    "has_id = True"
   ]
  },
  {
   "cell_type": "code",
   "execution_count": 23,
   "id": "d4693417-5321-4505-af5d-1b3b8410f47b",
   "metadata": {},
   "outputs": [
    {
     "data": {
      "text/plain": [
       "True"
      ]
     },
     "execution_count": 23,
     "metadata": {},
     "output_type": "execute_result"
    }
   ],
   "source": [
    "age = 25\n",
    "has_id = True\n",
    "\n",
    "age>18 and age<65 and has_id"
   ]
  },
  {
   "cell_type": "markdown",
   "id": "2842c61a-03a6-4501-b217-b616e35d5381",
   "metadata": {},
   "source": [
    "6-Write a script to check if a string starts with (http://) or (https://)\n",
    "\n",
    "url = \"https://www.example.com\""
   ]
  },
  {
   "cell_type": "markdown",
   "id": "6cfd25d7-2816-468c-9b66-e53411f938ac",
   "metadata": {},
   "source": [
    "1- \n",
    "\n",
    "text = 'hello python world'\n",
    "\n",
    "Replace spaces with underscores in the string (e.g., \"hello python world\" → \"hello_python_world\").\n",
    "\n",
    "Split the modified string (e.g., \"hello_python_world\" → ['hello', 'python', 'world']).\n",
    "\n",
    "Join the list elements with a hyphen (-) between them (e.g., ['hello', 'python', 'world'] → \"hello-python-world\").\n",
    "\n",
    "Print all three results\n",
    "\n",
    "Hint: Use string methods"
   ]
  },
  {
   "cell_type": "code",
   "execution_count": 34,
   "id": "5c83db7c-f398-4acd-8e84-2778af0408e2",
   "metadata": {},
   "outputs": [
    {
     "data": {
      "text/plain": [
       "False"
      ]
     },
     "execution_count": 34,
     "metadata": {},
     "output_type": "execute_result"
    }
   ],
   "source": [
    "url = \"https://www.example.com\"\n",
    "dir(url)\n",
    "url.startswith(\"https:\")\n",
    "url.startswith(\"http:\")"
   ]
  },
  {
   "cell_type": "markdown",
   "id": "aab1ae26-2cc7-4d19-937d-a83c6cffc5ec",
   "metadata": {},
   "source": [
    "7- Write a script that applies a 10% discount to an item's price. (Using Assignment Operator)\n",
    "\n",
    "price = 100"
   ]
  },
  {
   "cell_type": "code",
   "execution_count": 39,
   "id": "a1f36857-8d96-40ce-9dcf-d0c02b3849ac",
   "metadata": {},
   "outputs": [
    {
     "data": {
      "text/plain": [
       "90.0"
      ]
     },
     "execution_count": 39,
     "metadata": {},
     "output_type": "execute_result"
    }
   ],
   "source": [
    "price = 100\n",
    "discount_10 = price-(price*10)/100\n",
    "discount_10"
   ]
  },
  {
   "cell_type": "markdown",
   "id": "f6cddfb2-70b7-4e67-9b02-728c82e92e2f",
   "metadata": {},
   "source": [
    "8- You are managing different customer lists for a subscription service, check if alice@example.com is our both premium and basic customer\n",
    "\n",
    "premium_customers = [\"alice@example.com\", \"charlie@example.com\", \"bob@example.com\"]\n",
    "\n",
    "basic_customers = [\"alex@example.com\", \"david@example.com\", \"chloe@example.com\"]"
   ]
  },
  {
   "cell_type": "code",
   "execution_count": 57,
   "id": "06e5dc36-b30c-4d53-913f-52cbe2e6eb29",
   "metadata": {},
   "outputs": [
    {
     "data": {
      "text/plain": [
       "False"
      ]
     },
     "execution_count": 57,
     "metadata": {},
     "output_type": "execute_result"
    }
   ],
   "source": [
    "premium_customers = [\"alice@example.com\", \"charlie@example.com\", \"bob@example.com\"]\n",
    "\n",
    "basic_customers = [\"alex@example.com\", \"david@example.com\", \"chloe@example.com\"]\n",
    "email =\"alice@example.com\"\n",
    "\n",
    "(email in premium_customers) and (email in basic_customers) \n"
   ]
  },
  {
   "cell_type": "markdown",
   "id": "47dbafcf-7a6b-4ba0-af44-1e567292f8de",
   "metadata": {},
   "source": [
    "9. Write a Python program that prompts the user to enter a password and returns True or False based on the following checks:\n",
    "\n",
    "Whether the string contains any uppercase characters.\n",
    "\n",
    "Whether the string contains any lowercase characters.\n",
    "\n",
    "Whether the string contains any spaces.\n",
    "\n",
    "Whether the string contains any special characters (anything other than letters, digits, and spaces).\n",
    "\n",
    "\n",
    "\n",
    "Hint: Use Input function and string methods\n"
   ]
  },
  {
   "cell_type": "code",
   "execution_count": 84,
   "id": "bfe31143-d2d1-46f1-aa0a-7f9ad94d053a",
   "metadata": {},
   "outputs": [
    {
     "name": "stdin",
     "output_type": "stream",
     "text": [
      "Enter Password Hanan& k\n"
     ]
    },
    {
     "name": "stdout",
     "output_type": "stream",
     "text": [
      "True\n",
      "True\n",
      "True\n",
      "True\n"
     ]
    }
   ],
   "source": [
    "password=input(\"Enter Password\")\n",
    "has_upper = any(char.isupper() for char in password)\n",
    "has_lower = any(char.islower() for char in password)\n",
    "has_space = ' ' in password\n",
    "has_special = any(not char.isalnum() and not char.isspace() for char in password)\n",
    "print(has_upper)\n",
    "print(has_lower)\n",
    "print(has_space)\n",
    "print(has_special)"
   ]
  },
  {
   "cell_type": "markdown",
   "id": "8164e2d0-dc5a-4439-a196-1545e0a55139",
   "metadata": {},
   "source": [
    "10- You have a product code that follows the format \"SKU-12345-XYZ\". \n",
    "\n",
    "Find the first position of the dash (-).\n",
    "\n",
    "Count the number of dashes (-) in the product code.\n",
    "\n",
    "Remove the \"SKU-\" prefix and \"-XYZ\" suffix from the product code, Extract the numeric part 12345\n",
    "\n",
    "Hint: Use String Methods"
   ]
  },
  {
   "cell_type": "code",
   "execution_count": 76,
   "id": "78f4de50-bf67-468a-a8c8-63bb6513a0c4",
   "metadata": {},
   "outputs": [
    {
     "name": "stdout",
     "output_type": "stream",
     "text": [
      "3\n",
      "2\n",
      "12345-XYZ\n",
      "SKU-12345\n"
     ]
    }
   ],
   "source": [
    "z=\"SKU-12345-XYZ\"\n",
    "print(z.find(\"-\"))\n",
    "print(z.count(\"-\"))\n",
    "print(z.removeprefix(\"SKU-\"))\n",
    "print(z.removesuffix(\"-XYZ\"))\n"
   ]
  },
  {
   "cell_type": "code",
   "execution_count": null,
   "id": "3804ef6e-0881-4f70-a613-9d842c294016",
   "metadata": {},
   "outputs": [],
   "source": []
  }
 ],
 "metadata": {
  "kernelspec": {
   "display_name": "Python 3 (ipykernel)",
   "language": "python",
   "name": "python3"
  },
  "language_info": {
   "codemirror_mode": {
    "name": "ipython",
    "version": 3
   },
   "file_extension": ".py",
   "mimetype": "text/x-python",
   "name": "python",
   "nbconvert_exporter": "python",
   "pygments_lexer": "ipython3",
   "version": "3.11.4"
  }
 },
 "nbformat": 4,
 "nbformat_minor": 5
}
